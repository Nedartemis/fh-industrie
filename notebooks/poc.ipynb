{
 "cells": [
  {
   "cell_type": "markdown",
   "metadata": {},
   "source": [
    "# POC"
   ]
  },
  {
   "cell_type": "markdown",
   "metadata": {},
   "source": [
    "## Imports"
   ]
  },
  {
   "cell_type": "code",
   "execution_count": 136,
   "metadata": {},
   "outputs": [],
   "source": [
    "import itertools\n",
    "import json\n",
    "import os\n",
    "import re\n",
    "import tempfile\n",
    "from pathlib import Path\n",
    "from typing import Any, Dict, List, Optional, Tuple\n",
    "\n",
    "import dotenv\n",
    "import pandas as pd\n",
    "import pytesseract\n",
    "import requests\n",
    "from openpyxl import load_workbook\n",
    "from pdf2image import convert_from_path\n",
    "from PIL import Image\n",
    "from tqdm import tqdm"
   ]
  },
  {
   "cell_type": "markdown",
   "metadata": {},
   "source": [
    "## Vars"
   ]
  },
  {
   "cell_type": "code",
   "execution_count": 3,
   "metadata": {},
   "outputs": [],
   "source": [
    "PATH_DOCS = Path(\"../docs\")\n",
    "PATH_TEMPLATE = Path(\"../templates\")\n",
    "PATH_OUTPUTS = Path(\"../outputs\")"
   ]
  },
  {
   "cell_type": "markdown",
   "metadata": {},
   "source": [
    "## Claude test"
   ]
  },
  {
   "cell_type": "code",
   "execution_count": 4,
   "metadata": {},
   "outputs": [
    {
     "name": "stderr",
     "output_type": "stream",
     "text": [
      "python-dotenv could not parse statement starting at line 1\n"
     ]
    },
    {
     "data": {
      "text/plain": [
       "True"
      ]
     },
     "execution_count": 4,
     "metadata": {},
     "output_type": "execute_result"
    }
   ],
   "source": [
    "dotenv.load_dotenv(\"../keys.sh\", override=True)"
   ]
  },
  {
   "cell_type": "code",
   "execution_count": 5,
   "metadata": {},
   "outputs": [],
   "source": [
    "CLAUDE_KEY = os.environ[\"CLAUDE_KEY\"]"
   ]
  },
  {
   "cell_type": "code",
   "execution_count": 6,
   "metadata": {},
   "outputs": [],
   "source": [
    "class ClaudeClient:\n",
    "    \"\"\"A simple client for the Anthropic Claude API.\"\"\"\n",
    "    \n",
    "    def __init__(self, api_key: str):\n",
    "        \"\"\"Initialize the Claude client with your API key.\"\"\"\n",
    "        self.api_key = api_key\n",
    "        \n",
    "        self.base_url = \"https://api.anthropic.com/v1\"\n",
    "        self.headers = {\n",
    "            \"x-api-key\": self.api_key,\n",
    "            \"anthropic-version\": \"2023-06-01\",\n",
    "            \"content-type\": \"application/json\"\n",
    "        }\n",
    "    \n",
    "    def create_message(\n",
    "        self,\n",
    "        model: str = \"claude-3-7-sonnet-20250219\",\n",
    "        messages: List[Dict[str, str]] = None,\n",
    "        system: Optional[str] = None,\n",
    "        max_tokens: int = 1024,\n",
    "        temperature: float = 0.7,\n",
    "        stream: bool = False\n",
    "    ) -> Dict[str, Any]:\n",
    "        \"\"\"\n",
    "        Create a message using the Claude API.\n",
    "        \n",
    "        Args:\n",
    "            model: The Claude model to use\n",
    "            messages: List of message objects with role and content\n",
    "            system: Optional system prompt to guide Claude's behavior\n",
    "            max_tokens: Maximum number of tokens to generate\n",
    "            temperature: Controls randomness (0-1)\n",
    "            stream: Whether to stream the response\n",
    "            \n",
    "        Returns:\n",
    "            API response as a dictionary\n",
    "        \"\"\"\n",
    "        if not messages:\n",
    "            raise ValueError(\"Messages are required\")\n",
    "            \n",
    "        url = f\"{self.base_url}/messages\"\n",
    "        \n",
    "        payload = {\n",
    "            \"model\": model,\n",
    "            \"messages\": messages,\n",
    "            \"max_tokens\": max_tokens,\n",
    "            \"temperature\": temperature,\n",
    "            \"stream\": stream\n",
    "        }\n",
    "        \n",
    "        if system:\n",
    "            payload[\"system\"] = system\n",
    "            \n",
    "        response = requests.post(url, headers=self.headers, json=payload)\n",
    "        \n",
    "        if response.status_code != 200:\n",
    "            raise Exception(f\"API request failed with status {response.status_code}: {response.text}\")\n",
    "            \n",
    "        return response.json()\n"
   ]
  },
  {
   "cell_type": "code",
   "execution_count": 7,
   "metadata": {},
   "outputs": [],
   "source": [
    "client = ClaudeClient(CLAUDE_KEY)"
   ]
  },
  {
   "cell_type": "code",
   "execution_count": null,
   "metadata": {},
   "outputs": [
    {
     "name": "stdout",
     "output_type": "stream",
     "text": [
      "Claude's response:\n",
      "```json\n",
      "{\n",
      "  \"tribunal\": \"TRIBUNAL JUDICIAIRE DE DIEPPE\",\n",
      "  \"service\": \"Service chargé du contrôle des expertises judiciaires\",\n",
      "  \"contact\": \"Tél. : 02.76.72.97.34\",\n",
      "  \"references\": {\n",
      "    \"mesure_instruction\": \"24/173\",\n",
      "    \"numero_dossier\": \"24/00052\",\n",
      "    \"numero_portalis\": \"DB2U-W-B7I-DDMR\"\n",
      "  },\n",
      "  \"decision\": \"Ordonnance de Référé du 05 Juin 2024\",\n",
      "  \"parties\": {\n",
      "    \"demandeurs\": [\n",
      "      {\n",
      "        \"nom\": \"M. Claude MASSERE\"\n",
      "      },\n",
      "      {\n",
      "        \"nom\": \"Mme Françoise, Brigitte, Jeanne, Julia LAMAILLE épouse MASSERE\"\n",
      "      }\n",
      "    ],\n",
      "    \"representation_demandeurs\": \"SCP MORIVAL AMISSE MABIRE, Avocats associés au Barreau de DIEPPE\",\n",
      "    \"defendeurs\": [\n",
      "      {\n",
      "        \"nom\": \"S.A.R.L. BRUGOT XAVIER\",\n",
      "        \"representation\": \"SCP LENGLET, MALBESIN & Associés, Avocats associés au Barreau de ROUEN\"\n",
      "      },\n",
      "      {\n",
      "        \"nom\": \"S.A. AXA France IARD\",\n",
      "        \"representation\": \"SCP LENGLET, MALBESIN & Associés, Avocats associés au Barreau de ROUEN\"\n",
      "      },\n",
      "      {\n",
      "        \"nom\": \"M. Olivier BOUDET\",\n",
      "        \"representation\": \"SELARL PATRICE LEMIEGRE PHILIPPE FOURDRIN SUNA GUNEY & Associés, Avocats associés au Barreau de ROUEN\"\n",
      "      },\n",
      "      {\n",
      "        \"nom\": \"Société MUTUELLE DES ARCHITECTES FRANCAIS\",\n",
      "        \"representation\": \"non représentée\"\n",
      "      }\n"
     ]
    }
   ],
   "source": [
    "system = \"\"\"\n",
    "    Renvoie tes réponses sous format json.\n",
    "    Extrait toutes les informations relatives aux différents parties.\n",
    "\"\"\"\n",
    "\n",
    "cell_value = \"TRIBUNAL JUDICIAIRE DE DIEPPE Service chargé du contrôle des expertises judiciaires Tél. : 02.76.72.97.34 Référence à rappeler dans tous courriers : Mesure d'instruction : 24/173 N° de : 24/00052 N° Portalis DB2U-W-B7I-DDMR Ordonnance de Référé du 05 Juin 2024 DEMANDEURS M. Claude MASSERE Mme Françoise, Brigitte, Jeanne, Julia LAMAILLE épouse MASSERE représentés par la SCP MORIVAL AMISSE MABIRE, Avocats associés au Barreau de DIEPPE DÉFENDEURS La S.A.R.L. BRUGOT XAVIER représentée par la SCP LENGLET, MALBESIN & Associés, Avocats associés au Barreau de ROUEN La S.A. AXA France IARD représentée par la SCP LENGLET, MALBESIN & Associés, Avocats associés au Barreau de ROUEN M. Olivier BOUDET représenté par la SELARL PATRICE LEMIEGRE PHILIPPE FOURDRIN SUNA GUNEY & Associés, Avocats associés au Barreau de ROUEN La Société MUTUELLE DES ARCHITECTES FRANCAIS non représentée Monsieur, DIEPPE, le 21 Août 2024. Monsieur Franck HIBON 6 Impasse des Hautes Terres Les Vertus franck.hibon.expert-de-justice.or2 76550 SAINT AUBIN SUR SCIE EXPERTISE JUDICIAIRE, AVEC CONSIGNATION Date limite de dépôt du rapport d'expertise judiciaire : 28 Février 2025 J'ai l'honneur de vous adresser sous ce pli copie d'une décision qui vous a commis. re IMPORTANT : article 267 du Code de Procédure Civile - Décret n° 89-511 du 20 juillet 1989, article 3, en vigueur le 15 septembre 1989 : Il vous appartient de faire connaître au service chargé du contrôle des expertises judiciaires votre acceptation ou votre refus dès réce fion de la résente. Dans le cas où vous ne pourriez accepter cette mission, veuillez renvoyer l'ensemble des documents au service chargé du contrôle des expertises judiciaires.\"\n",
    "\n",
    "messages = [\n",
    "    {\"role\": \"user\", \"content\": cell_value}\n",
    "]\n",
    "\n",
    "response = client.create_message(\n",
    "    model=\"claude-3-7-sonnet-20250219\",\n",
    "    messages=messages,\n",
    "    system=system,\n",
    "    max_tokens=500,\n",
    "    temperature=0.7\n",
    ")\n",
    "\n",
    "# Print the response\n",
    "print(\"Claude's response:\")\n",
    "print(response[\"content\"][0][\"text\"])"
   ]
  },
  {
   "cell_type": "markdown",
   "metadata": {},
   "source": [
    "## OCR"
   ]
  },
  {
   "cell_type": "code",
   "execution_count": null,
   "metadata": {},
   "outputs": [],
   "source": [
    "def ocr_pdf(pdf_path, pages : Optional[List[int]] = None, language='eng', dpi=300) -> List[str]:\n",
    "    \"\"\"\n",
    "    Performs OCR on a PDF and saves the text to a file.\n",
    "    \n",
    "    Args:\n",
    "        pdf_path (str): Path to the PDF file\n",
    "        output_path (str, optional): Path to save the output text. If None, uses the PDF name with .txt extension\n",
    "        language (str, optional): Language for OCR. Default is 'eng'\n",
    "        dpi (int, optional): DPI for rendering PDF. Higher is better quality but slower.\n",
    "    \"\"\"\n",
    "    \n",
    "    # Create temp directory for storing images\n",
    "    with tempfile.TemporaryDirectory() as temp_dir:\n",
    "        \n",
    "        # Convert PDF to images\n",
    "        try:\n",
    "            images = convert_from_path(pdf_path, dpi=dpi)\n",
    "            print(f\"PDF converted to {len(images)} images.\")\n",
    "        except Exception as e:\n",
    "            print(f\"Error converting PDF: {e}\")\n",
    "            return None\n",
    "        \n",
    "        if pages is None:\n",
    "            pages = list(range(len(images)))\n",
    "        \n",
    "        # Process each page\n",
    "        text_per_page = []\n",
    "        for i, image in tqdm(list(enumerate(images)), desc=\"OCR pages\"):\n",
    "            page_number = i + 1\n",
    "            if not page_number in pages:\n",
    "                continue\n",
    "            \n",
    "            # Perform OCR\n",
    "            text = pytesseract.image_to_string(image, lang=language)\n",
    "            text_per_page.append(text)\n",
    "        \n",
    "    return text_per_page"
   ]
  },
  {
   "cell_type": "code",
   "execution_count": 10,
   "metadata": {},
   "outputs": [],
   "source": [
    "pdf_path = PATH_DOCS / \"0- ARBORESCENCE DOSSIERS JUD/EXPERT/01 - Notes aux parties/Note n┬░1 - Visio Adm/TJ DIEPPE - MASSERE - Ordonnance du 05 06 2024.pdf\"\n",
    "assert pdf_path.exists()"
   ]
  },
  {
   "cell_type": "code",
   "execution_count": 11,
   "metadata": {},
   "outputs": [
    {
     "name": "stdout",
     "output_type": "stream",
     "text": [
      "PDF converted to 10 images.\n"
     ]
    },
    {
     "name": "stderr",
     "output_type": "stream",
     "text": [
      "OCR pages:   0%|          | 0/10 [00:00<?, ?it/s]"
     ]
    },
    {
     "name": "stdout",
     "output_type": "stream",
     "text": [
      "OCR processing page 1/10...\n"
     ]
    },
    {
     "name": "stderr",
     "output_type": "stream",
     "text": [
      "OCR pages:  10%|█         | 1/10 [00:02<00:22,  2.49s/it]"
     ]
    },
    {
     "name": "stdout",
     "output_type": "stream",
     "text": [
      "OCR processing page 2/10...\n"
     ]
    },
    {
     "name": "stderr",
     "output_type": "stream",
     "text": [
      "OCR pages:  20%|██        | 2/10 [00:03<00:15,  1.89s/it]"
     ]
    },
    {
     "name": "stdout",
     "output_type": "stream",
     "text": [
      "OCR processing page 3/10...\n"
     ]
    },
    {
     "name": "stderr",
     "output_type": "stream",
     "text": [
      "OCR pages:  30%|███       | 3/10 [00:06<00:13,  1.99s/it]"
     ]
    },
    {
     "name": "stdout",
     "output_type": "stream",
     "text": [
      "OCR processing page 4/10...\n"
     ]
    },
    {
     "name": "stderr",
     "output_type": "stream",
     "text": [
      "OCR pages:  40%|████      | 4/10 [00:07<00:10,  1.69s/it]"
     ]
    },
    {
     "name": "stdout",
     "output_type": "stream",
     "text": [
      "OCR processing page 5/10...\n"
     ]
    },
    {
     "name": "stderr",
     "output_type": "stream",
     "text": [
      "OCR pages:  50%|█████     | 5/10 [00:09<00:09,  1.85s/it]"
     ]
    },
    {
     "name": "stdout",
     "output_type": "stream",
     "text": [
      "OCR processing page 6/10...\n"
     ]
    },
    {
     "name": "stderr",
     "output_type": "stream",
     "text": [
      "OCR pages:  60%|██████    | 6/10 [00:11<00:07,  1.95s/it]"
     ]
    },
    {
     "name": "stdout",
     "output_type": "stream",
     "text": [
      "OCR processing page 7/10...\n"
     ]
    },
    {
     "name": "stderr",
     "output_type": "stream",
     "text": [
      "OCR pages:  70%|███████   | 7/10 [00:14<00:06,  2.14s/it]"
     ]
    },
    {
     "name": "stdout",
     "output_type": "stream",
     "text": [
      "OCR processing page 8/10...\n"
     ]
    },
    {
     "name": "stderr",
     "output_type": "stream",
     "text": [
      "OCR pages:  80%|████████  | 8/10 [00:16<00:04,  2.33s/it]"
     ]
    },
    {
     "name": "stdout",
     "output_type": "stream",
     "text": [
      "OCR processing page 9/10...\n"
     ]
    },
    {
     "name": "stderr",
     "output_type": "stream",
     "text": [
      "OCR pages: 100%|██████████| 10/10 [00:19<00:00,  1.92s/it]\n"
     ]
    }
   ],
   "source": [
    "text_per_page = ocr_pdf(pdf_path=pdf_path)\n",
    "text = text_per_page[0]"
   ]
  },
  {
   "cell_type": "code",
   "execution_count": 176,
   "metadata": {},
   "outputs": [
    {
     "name": "stdout",
     "output_type": "stream",
     "text": [
      "TRIBUNAL JUDICIAIRE\n",
      "\n",
      "DE DIEPPE\n",
      "\n",
      "Service chargé du contr6éle des expertises judiciaires\n",
      "Tél. : 02.76.72.97.34\n",
      "\n",
      "Référence 4 rappeler dans tous courriers :\n",
      "\n",
      "Mesure d’instruction : 24/173\n",
      "\n",
      "Monsieur Franck HIBON\n",
      "N° de R.G. : 24/00052 6 Impasse des Hautes Terres\n",
      "N° Portalis DB2U-W-B7I-DDMR Les Vertus\n",
      "franck.hibon @expert-de-justice.org\n",
      "Ordonnance de Référé du 05 Juin 2024 76550 SAINT AUBIN SUR SCIE\n",
      "DEMANDEURS EXPERTISE JUDICIAIRE, AVEC CONSIGNATION\n",
      "M. Claude MASSERE\n",
      "Mme Francoise, Brigitte, Jeanne, Julia Date limite de dépét du rapport d’expertise judiciaire :\n",
      "\n",
      "LAMAILLE épouse MASSERE\n",
      "\n",
      "28 Février 2025\n",
      "\n",
      "représentés par la SCP MORIVAL AMISSE\n",
      "MABIRE, Avocats associés au Barreau de DIEPPE\n",
      "\n",
      "DEFENDEURS\n",
      "\n",
      "La S.A.R.L. BRUGOT XAVIER\n",
      "\n",
      "représentée par la SCP LENGLET, MALBESIN &\n",
      "Associés, Avocats associés au Barreau de ROUEN\n",
      "\n",
      "La S.A. AXA France IARD\n",
      "\n",
      "représentée par la SCP LENGLET, MALBESIN &\n",
      "Associés, Avocats associés au Barreau de ROUEN\n",
      "\n",
      "M. Olivier BOUDET\n",
      "\n",
      "représenté par la SELARL PATRICE LEMIEGRE\n",
      "PHILIPPE FOURDRIN SUNA GUNEY & Associés,\n",
      "\n",
      "Avocats associés au Barreau de\n",
      "\n",
      "ROUEN\n",
      "\n",
      "La Société MUTUELLE DES ARCHITECTES\n",
      "\n",
      "FRANCAIS\n",
      "\n",
      "non représentée\n",
      "\n",
      "Monsieur,\n",
      "\n",
      "J'ai Ihonneur de vous adresser sous ce pli copie d'une décision qui vous a\n",
      "commis.\n",
      "\n",
      "«> IMPORTANT : article 267 du Code de Procédure Civile - Décret n° 89-511\n",
      "du 20 juillet 1989, article 3, en vigueur le 15 septembre 1989 :\n",
      "\n",
      "li vous appartient de faire connaitre au service chargé du contrdle des\n",
      "expertises judiciaires votre acceptation ou votre refus dés réception de la\n",
      "présente.\n",
      "\n",
      "Dans le cas oi vous ne pourriez accepter cette mission, veuillez renvoyer\n",
      "ensemble des documents au service chargé du contrdle des expertises\n",
      "judiciaires.\n",
      "\n",
      "DIEPPE, le 21 Aotit 2024.\n",
      "\n"
     ]
    }
   ],
   "source": [
    "text = \"\\n---------------------------------------\\n\".join(text_per_page[:1])\n",
    "print(text)"
   ]
  },
  {
   "cell_type": "markdown",
   "metadata": {},
   "source": [
    "## XLSX"
   ]
  },
  {
   "cell_type": "code",
   "execution_count": 13,
   "metadata": {},
   "outputs": [],
   "source": [
    "path_input = PATH_TEMPLATE / \"feuille_présence.xlsx\"\n",
    "path_output = PATH_OUTPUTS / \"feuille_presence.xlsx\"\n",
    "assert path_input.exists() and path_output.parent.exists()"
   ]
  },
  {
   "cell_type": "code",
   "execution_count": 141,
   "metadata": {},
   "outputs": [],
   "source": [
    "import openpyxl.cell.rich_text"
   ]
  },
  {
   "cell_type": "code",
   "execution_count": null,
   "metadata": {},
   "outputs": [],
   "source": [
    "class ExcelManager:\n",
    "\n",
    "    def __init__(self, path_excel):\n",
    "        self.wb = load_workbook(path_excel, rich_text=True)\n",
    "        self.ws = self.wb.worksheets[0]\n",
    "\n",
    "    @staticmethod\n",
    "    def _change(input : str, key : str, value : str, count : int) -> Tuple[str, int]:\n",
    "        output = input.replace(\"{\" + key + \"}\", value)\n",
    "        if output != input:\n",
    "            count += 1\n",
    "        return output, count\n",
    "\n",
    "    def replace_content(self, infos : dict, verbose : bool = True) -> None:\n",
    "        n = 100\n",
    "\n",
    "        changes = 0\n",
    "\n",
    "        for row, column in itertools.product(range(1, n), range(1, n)):\n",
    "            # read\n",
    "            cell_value = self.ws.cell(row, column).value\n",
    "            if cell_value is None:\n",
    "                continue\n",
    "\n",
    "            if isinstance(cell_value, str):\n",
    "                # replace\n",
    "                for key, value in infos.items():\n",
    "                    cell_value, changes = ExcelManager._change(cell_value, key, value, changes)\n",
    "\n",
    "                # write\n",
    "                self.ws.cell(row, column, value=cell_value)\n",
    "            elif isinstance(cell_value, openpyxl.cell.rich_text.CellRichText):\n",
    "                # replace\n",
    "                for i, e in enumerate(cell_value):\n",
    "                    text = e if isinstance(e, str) else e.text\n",
    "                    \n",
    "                    for key, value in infos.items():\n",
    "                        text, changes = ExcelManager._change(text, key, value, changes)\n",
    "\n",
    "                    if isinstance(e, str):\n",
    "                        cell_value[i] = text\n",
    "                    else:\n",
    "                        e.text = text\n",
    "\n",
    "                    self.ws.cell(row, column, value=cell_value)\n",
    "            else:\n",
    "                raise ValueError(f\"Excel cell type not implemmented : {type(cell_value)}\")\n",
    "\n",
    "    \n",
    "        if verbose:\n",
    "            print(f\"Excel changes : {changes}\")\n",
    "\n",
    "    def save(self, path_excel) -> None:\n",
    "        self.wb.save(path_excel)"
   ]
  },
  {
   "cell_type": "code",
   "execution_count": 171,
   "metadata": {},
   "outputs": [],
   "source": [
    "infos = {\n",
    "    \"date_ordonnance\" : \"date bar\",\n",
    "    \"numero_rg\" : \"rg foo\",\n",
    "    \"lieu_expertise\" : \"lieu toto\",\n",
    "    \"date_reunion\" : \"date baz\"\n",
    "}"
   ]
  },
  {
   "cell_type": "code",
   "execution_count": 172,
   "metadata": {},
   "outputs": [],
   "source": [
    "excel = ExcelManager(path_input)"
   ]
  },
  {
   "cell_type": "code",
   "execution_count": 173,
   "metadata": {},
   "outputs": [
    {
     "name": "stdout",
     "output_type": "stream",
     "text": [
      "Excel changes : 4\n"
     ]
    }
   ],
   "source": [
    "excel.replace_content(infos)\n",
    "excel.save(path_output)"
   ]
  },
  {
   "cell_type": "markdown",
   "metadata": {},
   "source": [
    "## Test"
   ]
  },
  {
   "cell_type": "code",
   "execution_count": 180,
   "metadata": {},
   "outputs": [
    {
     "name": "stdout",
     "output_type": "stream",
     "text": [
      "TRIBUNAL JUDICIAIRE\n",
      "\n",
      "DE DIEPPE\n",
      "\n",
      "Service chargé du contr6éle des expertises judiciaires\n",
      "Tél. : 02.76.72.97.34\n",
      "\n",
      "Référence 4 rappeler dans tous courriers :\n",
      "\n",
      "Mesure d’instruction : 24/173\n",
      "\n",
      "Monsieur Franck HIBON\n",
      "N° de R.G. : 24/00052 6 Impasse des Hautes Terres\n",
      "N° Portalis DB2U-W-B7I-DDMR Les Vertus\n",
      "franck.hibon @expert-de-justice.org\n",
      "Ordonnance de Référé du 05 Juin 2024 76550 SAINT AUBIN SUR SCIE\n",
      "DEMANDEURS EXPERTISE JUDICIAIRE, AVEC CONSIGNATION\n",
      "M. Claude MASSERE\n",
      "Mme Francoise, Brigitte, Jeanne, Julia Date limite de dépét du rapport d’expertise judiciaire :\n",
      "\n",
      "LAMAILLE épouse MASSERE\n",
      "\n",
      "28 Février 2025\n",
      "\n",
      "représentés par la SCP MORIVAL AMISSE\n",
      "MABIRE, Avocats associés au Barreau de DIEPPE\n",
      "\n",
      "DEFENDEURS\n",
      "\n",
      "La S.A.R.L. BRUGOT XAVIER\n",
      "\n",
      "représentée par la SCP LENGLET, MALBESIN &\n",
      "Associés, Avocats associés au Barreau de ROUEN\n",
      "\n",
      "La S.A. AXA France IARD\n",
      "\n",
      "représentée par la SCP LENGLET, MALBESIN &\n",
      "Associés, Avocats associés au Barreau de ROUEN\n",
      "\n",
      "M. Olivier BOUDET\n",
      "\n",
      "représenté par la SELARL PATRICE LEMIEGRE\n",
      "PHILIPPE FOURDRIN SUNA GUNEY & Associés,\n",
      "\n",
      "Avocats associés au Barreau de\n",
      "\n",
      "ROUEN\n",
      "\n",
      "La Société MUTUELLE DES ARCHITECTES\n",
      "\n",
      "FRANCAIS\n",
      "\n",
      "non représentée\n",
      "\n",
      "Monsieur,\n",
      "\n",
      "J'ai Ihonneur de vous adresser sous ce pli copie d'une décision qui vous a\n",
      "commis.\n",
      "\n",
      "«> IMPORTANT : article 267 du Code de Procédure Civile - Décret n° 89-511\n",
      "du 20 juillet 1989, article 3, en vigueur le 15 septembre 1989 :\n",
      "\n",
      "li vous appartient de faire connaitre au service chargé du contrdle des\n",
      "expertises judiciaires votre acceptation ou votre refus dés réception de la\n",
      "présente.\n",
      "\n",
      "Dans le cas oi vous ne pourriez accepter cette mission, veuillez renvoyer\n",
      "ensemble des documents au service chargé du contrdle des expertises\n",
      "judiciaires.\n",
      "\n",
      "DIEPPE, le 21 Aotit 2024.\n",
      "\n"
     ]
    }
   ],
   "source": [
    "print(text)"
   ]
  },
  {
   "cell_type": "code",
   "execution_count": 178,
   "metadata": {},
   "outputs": [
    {
     "name": "stdout",
     "output_type": "stream",
     "text": [
      "Claude's response:\n",
      "```json\n",
      "{\n",
      "    \"date_ordonnance\": \"05 Juin 2024\",\n",
      "    \"numero_rg\": \"24/00052\",\n",
      "    \"lieu_expertise\": null,\n",
      "    \"date_reunion\": null,\n",
      "    \"demandeurs\": [\n",
      "        {\n",
      "            \"nom\": \"M. Claude MASSERE\",\n",
      "            \"telephone\": null,\n",
      "            \"email\": null,\n",
      "            \"conseil_nom\": \"SCP MORIVAL AMISSE MABIRE, Avocats associés au Barreau de DIEPPE\",\n",
      "            \"conseil_telephone\": null,\n",
      "            \"conseil_email\": null\n",
      "        },\n",
      "        {\n",
      "            \"nom\": \"Mme Francoise, Brigitte, Jeanne, Julia LAMAILLE épouse MASSERE\",\n",
      "            \"telephone\": null,\n",
      "            \"email\": null,\n",
      "            \"conseil_nom\": \"SCP MORIVAL AMISSE MABIRE, Avocats associés au Barreau de DIEPPE\",\n",
      "            \"conseil_telephone\": null,\n",
      "            \"conseil_email\": null\n",
      "        }\n",
      "    ],\n",
      "    \"defendeuresse\": [\n",
      "        {\n",
      "            \"nom\": \"S.A.R.L. BRUGOT XAVIER\",\n",
      "            \"telephone\": null,\n",
      "            \"email\": null,\n",
      "            \"conseil_nom\": \"SCP LENGLET, MALBESIN & Associés, Avocats associés au Barreau de ROUEN\",\n",
      "            \"conseil_telephone\": null,\n",
      "            \"conseil_email\": null,\n",
      "            \"conseil_techinque_nom\": null,\n",
      "            \"conseil_techinque_telephone\": null,\n",
      "            \"conseil_techinque_email\": null\n",
      "        },\n",
      "        {\n",
      "            \"nom\": \"S.A. AXA France IARD\",\n",
      "            \"telephone\": null,\n",
      "            \"email\": null,\n",
      "            \"conseil_nom\": \"SCP LENGLET, MALBESIN & Associés, Avocats associés au Barreau de ROUEN\",\n",
      "            \"conseil_telephone\": null,\n",
      "            \"conseil_email\": null,\n",
      "            \"conseil_techinque_nom\": null,\n",
      "            \"conseil_techinque_telephone\": null,\n",
      "            \"conseil_techinque_email\": null\n",
      "        },\n",
      "        {\n",
      "            \"nom\": \"M. Olivier BOUDET\",\n",
      "            \"telephone\": null,\n",
      "            \"email\": null,\n",
      "            \"conseil_nom\": \"SELARL PATRICE LEMIEGRE PHILIPPE FOURDRIN SUNA GUNEY & Associés, Avocats associés au Barreau de ROUEN\",\n",
      "            \"conseil_telephone\": null,\n",
      "            \"conseil_email\": null,\n",
      "            \"conseil_techinque_nom\": null,\n",
      "            \"conseil_techinque_telephone\": null,\n",
      "            \"conseil_techinque_email\": null\n",
      "        },\n",
      "        {\n",
      "            \"nom\": \"Société MUTUELLE DES ARCHITECTES FRANCAIS\",\n",
      "            \"telephone\": null,\n",
      "            \"email\": null,\n",
      "            \"conseil_nom\": \"non représentée\",\n",
      "            \"conseil_telephone\": null,\n",
      "            \"conseil_email\": null,\n",
      "            \"conseil_techinque_nom\": null,\n",
      "            \"conseil_techinque_telephone\": null,\n",
      "            \"conseil_techinque_email\": null\n",
      "        }\n",
      "    ]\n",
      "}\n",
      "```\n"
     ]
    }
   ],
   "source": [
    "system = \"\"\"\n",
    "    Extrait toutes les informations relatives aux différents partis.\n",
    "    Renvoie tes réponses sous format json :\n",
    "    {\n",
    "        \"date_ordonnance\" : \"...\",\n",
    "        \"numero_rg\" : \"...\",\n",
    "        \"lieu_expertise\" : \"...\",\n",
    "        \"date_reunion\" : \"...\"\n",
    "        demandeurs : [\n",
    "            \"nom\" : \"...\",\n",
    "            \"telephone\" : \"...\",\n",
    "            \"email\" : \"...\",\n",
    "            \"conseil_nom\" : \"...\",\n",
    "            \"conseil_telephone\" : \"...\",\n",
    "            \"conseil_email\" : \"...\",\n",
    "        ],\n",
    "        defendeuresses : [\n",
    "            \"nom\" : \"...\",\n",
    "            \"telephone\" : \"...\",\n",
    "            \"email\" : \"...\",\n",
    "            \"conseil_nom\" : \"...\",\n",
    "            \"conseil_telephone\" : \"...\",\n",
    "            \"conseil_email\" : \"...\",\n",
    "            \"conseil_techinque_nom\" : \"...\",\n",
    "            \"conseil_techinque_telephone\" : \"...\",\n",
    "            \"conseil_techinque_email\" : \"...\",\n",
    "        ]\n",
    "    }\n",
    "\"\"\"\n",
    "\n",
    "messages = [\n",
    "    {\"role\": \"user\", \"content\": text}\n",
    "]\n",
    "\n",
    "response = client.create_message(\n",
    "    model=\"claude-3-7-sonnet-20250219\",\n",
    "    messages=messages,\n",
    "    system=system,\n",
    "    max_tokens=1000,\n",
    "    temperature=0.7\n",
    ")\n",
    "\n",
    "# Print the response\n",
    "print(\"Claude's response:\")\n",
    "print(response[\"content\"][0][\"text\"])"
   ]
  },
  {
   "cell_type": "code",
   "execution_count": 175,
   "metadata": {},
   "outputs": [
    {
     "data": {
      "text/plain": [
       "{'date_ordonnance': '05 Juin 2024',\n",
       " 'numero_rg': '24/00052',\n",
       " 'lieu_expertise': '15 Rue des Bords de Mer BELLEVILLE SUR MER - 76370 PETIT-CAUX',\n",
       " 'date_reunion': None,\n",
       " 'demandeurs': [{'nom': 'Claude MASSERE',\n",
       "   'telephone': None,\n",
       "   'email': None,\n",
       "   'conseil_nom': 'Maitre Corinne MORIVAL de la SCP MORIVAL AMISSE MABIRE',\n",
       "   'conseil_telephone': None,\n",
       "   'conseil_email': None},\n",
       "  {'nom': 'Francoise Brigitte, Jeanne, Julia LAMAILLE épouse MASSERE',\n",
       "   'telephone': None,\n",
       "   'email': None,\n",
       "   'conseil_nom': 'Maitre Corinne MORIVAL de la SCP MORIVAL AMISSE MABIRE',\n",
       "   'conseil_telephone': None,\n",
       "   'conseil_email': None}]}"
      ]
     },
     "execution_count": 175,
     "metadata": {},
     "output_type": "execute_result"
    }
   ],
   "source": [
    "text_infos = response[\"content\"][0][\"text\"]\n",
    "res = re.search(pattern=\"```json(.*)```\", string=text_infos, flags=re.DOTALL)\n",
    "infos = json.loads(res.group(1))\n",
    "infos"
   ]
  },
  {
   "cell_type": "code",
   "execution_count": 22,
   "metadata": {},
   "outputs": [
    {
     "name": "stdout",
     "output_type": "stream",
     "text": [
      "Excel changes : 4\n"
     ]
    }
   ],
   "source": [
    "excel = ExcelManager(path_input)\n",
    "excel.replace_content(infos)\n",
    "excel.save(path_output)"
   ]
  }
 ],
 "metadata": {
  "kernelspec": {
   "display_name": ".venv",
   "language": "python",
   "name": "python3"
  },
  "language_info": {
   "codemirror_mode": {
    "name": "ipython",
    "version": 3
   },
   "file_extension": ".py",
   "mimetype": "text/x-python",
   "name": "python",
   "nbconvert_exporter": "python",
   "pygments_lexer": "ipython3",
   "version": "3.12.8"
  }
 },
 "nbformat": 4,
 "nbformat_minor": 2
}
